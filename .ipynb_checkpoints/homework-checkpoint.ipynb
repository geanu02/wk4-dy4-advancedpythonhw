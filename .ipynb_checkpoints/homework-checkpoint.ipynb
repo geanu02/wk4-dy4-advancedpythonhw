{
 "cells": [
  {
   "cell_type": "markdown",
   "id": "2a2b1ca2",
   "metadata": {},
   "source": [
    "# Week 4, Day 4: Homework\n",
    "\n",
    "## Binary Search Trees, Memoization and Decorators\n",
    "\n",
    "For tonight's assignment, you will create a decorator function that\n",
    "takes in a function as an argument. This decorator function will modify\n",
    "the behavior of the original function by converting a list input into a\n",
    "binary search tree. Here's what you need to do:\n",
    "\n",
    "- Define a decorator function that takes in a function as an argument.\n",
    "- Within the decorator function, define a wrapper function that takes in a list as an argument.\n",
    "- Convert the input list into a binary search tree.\n",
    "- Pass the binary search tree as an argument to the original function.\n",
    "- Return the result of the original function."
   ]
  },
  {
   "cell_type": "code",
   "execution_count": null,
   "id": "186cb7fe",
   "metadata": {},
   "outputs": [],
   "source": [
    "class Node:\n",
    "\n",
    "    def __init__(self, value):\n",
    "        self.value = value\n",
    "        self.right = None\n",
    "        self.left = None\n",
    "\n",
    "class BinarySearchTree:\n",
    "\n",
    "    def __init__(self, root_value):\n",
    "        self.root = Node(root_value)\n",
    "\n",
    "    def add_node(self, value, node=None):\n",
    "        if not node:\n",
    "            node = self.root\n",
    "        if value > node.value:\n",
    "            if not node.right:\n",
    "                node.right = Node(value)\n",
    "            else:\n",
    "                return self.add_node(value, node.right) \n",
    "        else:\n",
    "            if not node.left:\n",
    "                node.left = Node(value)\n",
    "            else:\n",
    "                return self.add_node(value, node.left)\n",
    "    \n",
    "    def get_min(self, node=None):\n",
    "        if not node:\n",
    "            node = self.root\n",
    "        if node.left:\n",
    "            return self.get_min(node.left)\n",
    "        else:\n",
    "            return node.value\n",
    "\n",
    "    def get_max(self):\n",
    "        node = self.root\n",
    "        while node.right:\n",
    "            node = node.right\n",
    "        return node.value\n",
    "    \n",
    "    def contains(self, target):\n",
    "        current_node = self.root\n",
    "        while current_node:\n",
    "            if target == current_node.value:\n",
    "                return True\n",
    "            if target > current_node.value:\n",
    "                current_node = current_node.right\n",
    "            else:\n",
    "                current_node = current_node.left\n",
    "        return False\n",
    "\n",
    "    def print_in_order(self, node=None):\n",
    "        if not node:\n",
    "            node = self.root\n",
    "        if node.left is not None:\n",
    "            self.print_in_order(node.left)\n",
    "        print(node.value)\n",
    "        if node.right is not None:\n",
    "            self.print_in_order(node.right)"
   ]
  },
  {
   "cell_type": "code",
   "execution_count": null,
   "id": "74255683",
   "metadata": {},
   "outputs": [],
   "source": [
    "def bst_decorator(func):\n",
    "    def wrapper(alist):\n",
    "        bst = BinarySearchTree(alist[0])\n",
    "        for elem in alist[1:]:\n",
    "            bst.add_node(elem)\n",
    "        result = func(bst)\n",
    "        return result\n",
    "    return wrapper"
   ]
  },
  {
   "cell_type": "code",
   "execution_count": null,
   "id": "51a1bd57",
   "metadata": {
    "scrolled": true
   },
   "outputs": [],
   "source": [
    "@bst_decorator\n",
    "def lotto_numbers(num_list):\n",
    "    return num_list\n",
    "\n",
    "winning = lotto_numbers([27, 45, 12, 18, 67, 33])\n",
    "print(winning.root.value)\n",
    "print(winning.root.left.value)\n",
    "print(winning.root.left.right.value)\n",
    "print(winning.get_min())\n",
    "print(winning.get_max())"
   ]
  }
 ],
 "metadata": {
  "kernelspec": {
   "display_name": "Python 3 (ipykernel)",
   "language": "python",
   "name": "python3"
  },
  "language_info": {
   "codemirror_mode": {
    "name": "ipython",
    "version": 3
   },
   "file_extension": ".py",
   "mimetype": "text/x-python",
   "name": "python",
   "nbconvert_exporter": "python",
   "pygments_lexer": "ipython3",
   "version": "3.9.13"
  }
 },
 "nbformat": 4,
 "nbformat_minor": 5
}
