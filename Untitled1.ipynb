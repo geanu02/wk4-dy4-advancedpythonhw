{
 "cells": [
  {
   "cell_type": "markdown",
   "id": "5190dca7",
   "metadata": {},
   "source": [
    "# Week 4, Day 4: Homework\n",
    "\n",
    "## Binary Search Trees, Memoization and Decorators\n",
    "\n",
    "For tonight's assignment, you will create a decorator function that\n",
    "takes in a function as an argument. This decorator function will modify\n",
    "the behavior of the original function by converting a list input into a\n",
    "binary search tree. Here's what you need to do:\n",
    "\n",
    "- Define a decorator function that takes in a function as an argument.\n",
    "- Within the decorator function, define a wrapper function that takes in a list as an argument.\n",
    "Convert the input list into a binary search tree.\n",
    "Pass the binary search tree as an argument to the original function.\n",
    "Return the result of the original function."
   ]
  }
 ],
 "metadata": {
  "kernelspec": {
   "display_name": "Python 3 (ipykernel)",
   "language": "python",
   "name": "python3"
  },
  "language_info": {
   "codemirror_mode": {
    "name": "ipython",
    "version": 3
   },
   "file_extension": ".py",
   "mimetype": "text/x-python",
   "name": "python",
   "nbconvert_exporter": "python",
   "pygments_lexer": "ipython3",
   "version": "3.9.13"
  }
 },
 "nbformat": 4,
 "nbformat_minor": 5
}
